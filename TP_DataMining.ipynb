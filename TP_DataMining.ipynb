{
 "cells": [
  {
   "cell_type": "code",
   "execution_count": 1,
   "id": "4102dff7-fcd5-4959-849f-319a974e01ad",
   "metadata": {},
   "outputs": [],
   "source": [
    "import pandas as pd\n",
    "import numpy as np"
   ]
  },
  {
   "cell_type": "code",
   "execution_count": 2,
   "id": "d44bea77-0104-4744-9328-04b7ce2a9eb6",
   "metadata": {},
   "outputs": [],
   "source": [
    "#mydata = pd.read_csv(\"Plot.csv\", sep=\";\",quotechar='\"')"
   ]
  },
  {
   "cell_type": "code",
   "execution_count": 3,
   "id": "8123a43c-ac7d-4b58-bb05-fe947ed977fd",
   "metadata": {},
   "outputs": [],
   "source": [
    "mydata = pd.read_csv(\"Plot.csv\")"
   ]
  },
  {
   "cell_type": "code",
   "execution_count": 4,
   "id": "2cff0f5d-a34b-423e-9452-ba8ff0f3710c",
   "metadata": {
    "scrolled": true
   },
   "outputs": [
    {
     "name": "stdout",
     "output_type": "stream",
     "text": [
      "<class 'pandas.core.frame.DataFrame'>\n",
      "RangeIndex: 1059 entries, 0 to 1058\n",
      "Data columns (total 1 columns):\n",
      " #   Column                                                                                                                                                                                                                                                                     Non-Null Count  Dtype \n",
      "---  ------                                                                                                                                                                                                                                                                     --------------  ----- \n",
      " 0    ID;\"Parent ID\";\"Object state\";Status;\"Agent name\";\"Agent first name\";Title;Subtitle;Lon;Lat;Accuracy;Date;\"Plot number\";Status;\"Declared area\";\"Farm gate picture\";\"Plot delimitation\";\"Plot centroid\";\"Soil type\";\"Soil color\";\"Soil picture\";\"Soil quality\";Topography  1059 non-null   object\n",
      "dtypes: object(1)\n",
      "memory usage: 8.4+ KB\n"
     ]
    }
   ],
   "source": [
    "mydata.info()"
   ]
  },
  {
   "cell_type": "code",
   "execution_count": 5,
   "id": "216d0e20-2dbb-4ef3-be58-93beced52834",
   "metadata": {},
   "outputs": [],
   "source": [
    "datacopy = pd.read_csv(\"Plot.csv\", sep=\";\",quotechar='\"')"
   ]
  },
  {
   "cell_type": "code",
   "execution_count": 6,
   "id": "3d3094e9-b996-4a4a-b922-2965c7f485ad",
   "metadata": {},
   "outputs": [
    {
     "name": "stdout",
     "output_type": "stream",
     "text": [
      "<class 'pandas.core.frame.DataFrame'>\n",
      "RangeIndex: 1059 entries, 0 to 1058\n",
      "Data columns (total 23 columns):\n",
      " #   Column             Non-Null Count  Dtype  \n",
      "---  ------             --------------  -----  \n",
      " 0    ID                1059 non-null   int64  \n",
      " 1   Parent ID          1031 non-null   float64\n",
      " 2   Object state       1059 non-null   object \n",
      " 3   Status             1059 non-null   object \n",
      " 4   Agent name         1059 non-null   object \n",
      " 5   Agent first name   1059 non-null   object \n",
      " 6   Title              0 non-null      float64\n",
      " 7   Subtitle           0 non-null      float64\n",
      " 8   Lon                1059 non-null   float64\n",
      " 9   Lat                1059 non-null   float64\n",
      " 10  Accuracy           1059 non-null   int64  \n",
      " 11  Date               1059 non-null   object \n",
      " 12  Plot number        1054 non-null   float64\n",
      " 13  Status.1           1056 non-null   object \n",
      " 14  Declared area      1059 non-null   float64\n",
      " 15  Farm gate picture  1059 non-null   object \n",
      " 16  Plot delimitation  1059 non-null   float64\n",
      " 17  Plot centroid      1059 non-null   object \n",
      " 18  Soil type          1042 non-null   object \n",
      " 19  Soil color         1034 non-null   object \n",
      " 20  Soil picture       1059 non-null   object \n",
      " 21  Soil quality       1035 non-null   object \n",
      " 22  Topography         1039 non-null   object \n",
      "dtypes: float64(8), int64(2), object(13)\n",
      "memory usage: 190.4+ KB\n"
     ]
    }
   ],
   "source": [
    "datacopy.info()"
   ]
  },
  {
   "cell_type": "code",
   "execution_count": 7,
   "id": "f94fc157-1533-45a5-b169-1aedb899cf1c",
   "metadata": {},
   "outputs": [
    {
     "data": {
      "text/plain": [
       "Index([' ID', 'Parent ID', 'Object state', 'Status', 'Agent name',\n",
       "       'Agent first name', 'Title', 'Subtitle', 'Lon', 'Lat', 'Accuracy',\n",
       "       'Date', 'Plot number', 'Status.1', 'Declared area', 'Farm gate picture',\n",
       "       'Plot delimitation', 'Plot centroid', 'Soil type', 'Soil color',\n",
       "       'Soil picture', 'Soil quality', 'Topography'],\n",
       "      dtype='object')"
      ]
     },
     "execution_count": 7,
     "metadata": {},
     "output_type": "execute_result"
    }
   ],
   "source": [
    "datacopy.columns"
   ]
  },
  {
   "cell_type": "markdown",
   "id": "16f75d55-831b-4c17-84d3-cd9e72a2d60a",
   "metadata": {},
   "source": [
    "## Supprimer les vides"
   ]
  },
  {
   "cell_type": "code",
   "execution_count": 8,
   "id": "c1180824-87b9-404f-8d88-686d7d8b9e7b",
   "metadata": {},
   "outputs": [],
   "source": [
    "liste_a_fouter = [\"Title\",\"Subtitle\"]"
   ]
  },
  {
   "cell_type": "code",
   "execution_count": 9,
   "id": "95489357-9893-4d19-9118-9611a2bf7116",
   "metadata": {},
   "outputs": [],
   "source": [
    "datacopy.drop(liste_a_fouter, axis= 1,inplace = True)"
   ]
  },
  {
   "cell_type": "code",
   "execution_count": 10,
   "id": "dedd5fd2-54ec-4a2b-a7c5-b40ae6db948b",
   "metadata": {},
   "outputs": [
    {
     "data": {
      "text/plain": [
       "Index([' ID', 'Parent ID', 'Object state', 'Status', 'Agent name',\n",
       "       'Agent first name', 'Lon', 'Lat', 'Accuracy', 'Date', 'Plot number',\n",
       "       'Status.1', 'Declared area', 'Farm gate picture', 'Plot delimitation',\n",
       "       'Plot centroid', 'Soil type', 'Soil color', 'Soil picture',\n",
       "       'Soil quality', 'Topography'],\n",
       "      dtype='object')"
      ]
     },
     "execution_count": 10,
     "metadata": {},
     "output_type": "execute_result"
    }
   ],
   "source": [
    "datacopy.columns"
   ]
  },
  {
   "cell_type": "markdown",
   "id": "30ba5b7d-6aa6-4414-bb47-fbb22c11d08e",
   "metadata": {},
   "source": [
    "## Verification des doublons"
   ]
  },
  {
   "cell_type": "code",
   "execution_count": 11,
   "id": "6d8f7011-6d9b-4f36-a777-c052cb730ce2",
   "metadata": {},
   "outputs": [],
   "source": [
    "doublons_n = datacopy.duplicated().sum()"
   ]
  },
  {
   "cell_type": "code",
   "execution_count": 12,
   "id": "8a8d0ac0-c536-4471-9cae-a251dd061dc0",
   "metadata": {},
   "outputs": [
    {
     "data": {
      "text/plain": [
       "np.int64(0)"
      ]
     },
     "execution_count": 12,
     "metadata": {},
     "output_type": "execute_result"
    }
   ],
   "source": [
    "doublons_n"
   ]
  },
  {
   "cell_type": "markdown",
   "id": "ff15b169-bc6e-4555-8de7-d41d016f0595",
   "metadata": {},
   "source": [
    "## Les espaces"
   ]
  },
  {
   "cell_type": "code",
   "execution_count": 13,
   "id": "32f5e894-5fa4-487c-9729-e455c218a296",
   "metadata": {},
   "outputs": [],
   "source": [
    "datacopy.columns = datacopy.columns.str.replace(\" \",\"_\")"
   ]
  },
  {
   "cell_type": "code",
   "execution_count": 14,
   "id": "efe3c1e1-2d7f-4b64-a5d7-10ba02c33452",
   "metadata": {},
   "outputs": [
    {
     "data": {
      "text/plain": [
       "Index(['_ID', 'Parent_ID', 'Object_state', 'Status', 'Agent_name',\n",
       "       'Agent_first_name', 'Lon', 'Lat', 'Accuracy', 'Date', 'Plot_number',\n",
       "       'Status.1', 'Declared_area', 'Farm_gate_picture', 'Plot_delimitation',\n",
       "       'Plot_centroid', 'Soil_type', 'Soil_color', 'Soil_picture',\n",
       "       'Soil_quality', 'Topography'],\n",
       "      dtype='object')"
      ]
     },
     "execution_count": 14,
     "metadata": {},
     "output_type": "execute_result"
    }
   ],
   "source": [
    "datacopy.columns"
   ]
  },
  {
   "cell_type": "code",
   "execution_count": 15,
   "id": "95b4e7a6-65f0-4e08-a3bc-3ce3a85c8821",
   "metadata": {},
   "outputs": [],
   "source": [
    "datacopy.rename(columns = {'_ID':'ID'},inplace = True)"
   ]
  },
  {
   "cell_type": "markdown",
   "id": "0e67c90e-2c32-47c6-b771-323ba9de1921",
   "metadata": {},
   "source": [
    "## Les vides"
   ]
  },
  {
   "cell_type": "code",
   "execution_count": 16,
   "id": "6f9b569f-f0bf-4608-804e-486633e88103",
   "metadata": {},
   "outputs": [],
   "source": [
    "missing = datacopy.isnull().sum()"
   ]
  },
  {
   "cell_type": "code",
   "execution_count": 17,
   "id": "179b97b9-503c-49a0-8e2f-ec1e382b35f2",
   "metadata": {},
   "outputs": [
    {
     "name": "stdout",
     "output_type": "stream",
     "text": [
      "ID                    0\n",
      "Parent_ID            28\n",
      "Object_state          0\n",
      "Status                0\n",
      "Agent_name            0\n",
      "Agent_first_name      0\n",
      "Lon                   0\n",
      "Lat                   0\n",
      "Accuracy              0\n",
      "Date                  0\n",
      "Plot_number           5\n",
      "Status.1              3\n",
      "Declared_area         0\n",
      "Farm_gate_picture     0\n",
      "Plot_delimitation     0\n",
      "Plot_centroid         0\n",
      "Soil_type            17\n",
      "Soil_color           25\n",
      "Soil_picture          0\n",
      "Soil_quality         24\n",
      "Topography           20\n",
      "dtype: int64\n"
     ]
    }
   ],
   "source": [
    "print(missing)"
   ]
  },
  {
   "cell_type": "markdown",
   "id": "133772e1-e1bd-4aa0-90af-59581cf0564a",
   "metadata": {},
   "source": [
    "## Completer les Vides"
   ]
  },
  {
   "cell_type": "code",
   "execution_count": 18,
   "id": "7566bf40-12b7-40f3-961b-0bf7ca1862ae",
   "metadata": {},
   "outputs": [],
   "source": [
    "variables_categoriel = datacopy.select_dtypes(include = 'object').columns"
   ]
  },
  {
   "cell_type": "code",
   "execution_count": 19,
   "id": "abbbc0c9-bbb5-432b-9962-bcf5f22760b7",
   "metadata": {},
   "outputs": [
    {
     "ename": "TypeError",
     "evalue": "Series.mod() missing 1 required positional argument: 'other'",
     "output_type": "error",
     "traceback": [
      "\u001b[0;31m---------------------------------------------------------------------------\u001b[0m",
      "\u001b[0;31mTypeError\u001b[0m                                 Traceback (most recent call last)",
      "Cell \u001b[0;32mIn[19], line 5\u001b[0m\n\u001b[1;32m      3\u001b[0m mode_val \u001b[38;5;241m=\u001b[39m datacopy[i]\u001b[38;5;241m.\u001b[39mdropna()\u001b[38;5;241m.\u001b[39mastype(\u001b[38;5;28mstr\u001b[39m)\u001b[38;5;241m.\u001b[39mstr\u001b[38;5;241m.\u001b[39mstrip()\n\u001b[1;32m      4\u001b[0m \u001b[38;5;28;01mif\u001b[39;00m \u001b[38;5;129;01mnot\u001b[39;00m mode_val\u001b[38;5;241m.\u001b[39mempty:\n\u001b[0;32m----> 5\u001b[0m     modval \u001b[38;5;241m=\u001b[39m mode_val\u001b[38;5;241m.\u001b[39mmod()[\u001b[38;5;241m0\u001b[39m]\n\u001b[1;32m      6\u001b[0m     datacopy[i]\u001b[38;5;241m.\u001b[39mfillna(modval, inplace \u001b[38;5;241m=\u001b[39m \u001b[38;5;28;01mTrue\u001b[39;00m)\n\u001b[1;32m      7\u001b[0m \u001b[38;5;28;01melse\u001b[39;00m:\n",
      "\u001b[0;31mTypeError\u001b[0m: Series.mod() missing 1 required positional argument: 'other'"
     ]
    }
   ],
   "source": [
    "for i in variables_categoriel:\n",
    "    if datacopy[i].isnull().any():\n",
    "        mode_val = datacopy[i].dropna().astype(str).str.strip()\n",
    "        if not mode_val.empty:\n",
    "            modval = mode_val.mod()[0]\n",
    "            datacopy[i].fillna(modval, inplace = True)\n",
    "        else:\n",
    "            datacopy[i].fillna('inconnu', inplace = True)"
   ]
  },
  {
   "cell_type": "code",
   "execution_count": null,
   "id": "86533082-758d-4e89-a3a8-3156dffc6568",
   "metadata": {},
   "outputs": [],
   "source": []
  }
 ],
 "metadata": {
  "kernelspec": {
   "display_name": "Python 3 (ipykernel)",
   "language": "python",
   "name": "python3"
  },
  "language_info": {
   "codemirror_mode": {
    "name": "ipython",
    "version": 3
   },
   "file_extension": ".py",
   "mimetype": "text/x-python",
   "name": "python",
   "nbconvert_exporter": "python",
   "pygments_lexer": "ipython3",
   "version": "3.13.5"
  }
 },
 "nbformat": 4,
 "nbformat_minor": 5
}
