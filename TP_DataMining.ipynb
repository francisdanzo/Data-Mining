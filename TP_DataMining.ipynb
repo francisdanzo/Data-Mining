{
 "cells": [
  {
   "cell_type": "code",
   "execution_count": 1,
   "id": "4102dff7-fcd5-4959-849f-319a974e01ad",
   "metadata": {},
   "outputs": [],
   "source": [
    "import pandas as pd\n",
    "import numpy as np"
   ]
  },
  {
   "cell_type": "code",
   "execution_count": 2,
   "id": "d44bea77-0104-4744-9328-04b7ce2a9eb6",
   "metadata": {},
   "outputs": [],
   "source": [
    "#mydata = pd.read_csv(\"Plot.csv\", sep=\";\",quotechar='\"')"
   ]
  },
  {
   "cell_type": "code",
   "execution_count": null,
   "id": "8a266dee",
   "metadata": {},
   "outputs": [],
   "source": []
  },
  {
   "cell_type": "code",
   "execution_count": 3,
   "id": "8123a43c-ac7d-4b58-bb05-fe947ed977fd",
   "metadata": {},
   "outputs": [],
   "source": [
    "mydata = pd.read_csv(\"Plot.csv\")"
   ]
  },
  {
   "cell_type": "code",
   "execution_count": 4,
   "id": "2cff0f5d-a34b-423e-9452-ba8ff0f3710c",
   "metadata": {
    "scrolled": true
   },
   "outputs": [
    {
     "name": "stdout",
     "output_type": "stream",
     "text": [
      "<class 'pandas.core.frame.DataFrame'>\n",
      "RangeIndex: 1059 entries, 0 to 1058\n",
      "Data columns (total 1 columns):\n",
      " #   Column                                                                                                                                                                                                                                                                     Non-Null Count  Dtype \n",
      "---  ------                                                                                                                                                                                                                                                                     --------------  ----- \n",
      " 0    ID;\"Parent ID\";\"Object state\";Status;\"Agent name\";\"Agent first name\";Title;Subtitle;Lon;Lat;Accuracy;Date;\"Plot number\";Status;\"Declared area\";\"Farm gate picture\";\"Plot delimitation\";\"Plot centroid\";\"Soil type\";\"Soil color\";\"Soil picture\";\"Soil quality\";Topography  1059 non-null   object\n",
      "dtypes: object(1)\n",
      "memory usage: 8.4+ KB\n"
     ]
    }
   ],
   "source": [
    "mydata.info()"
   ]
  },
  {
   "cell_type": "code",
   "execution_count": 5,
   "id": "216d0e20-2dbb-4ef3-be58-93beced52834",
   "metadata": {},
   "outputs": [],
   "source": [
    "datacopy = pd.read_csv(\"Plot.csv\", sep=\";\",quotechar='\"')"
   ]
  },
  {
   "cell_type": "code",
   "execution_count": 6,
   "id": "3d3094e9-b996-4a4a-b922-2965c7f485ad",
   "metadata": {},
   "outputs": [
    {
     "name": "stdout",
     "output_type": "stream",
     "text": [
      "<class 'pandas.core.frame.DataFrame'>\n",
      "RangeIndex: 1059 entries, 0 to 1058\n",
      "Data columns (total 23 columns):\n",
      " #   Column             Non-Null Count  Dtype  \n",
      "---  ------             --------------  -----  \n",
      " 0    ID                1059 non-null   int64  \n",
      " 1   Parent ID          1031 non-null   float64\n",
      " 2   Object state       1059 non-null   object \n",
      " 3   Status             1059 non-null   object \n",
      " 4   Agent name         1059 non-null   object \n",
      " 5   Agent first name   1059 non-null   object \n",
      " 6   Title              0 non-null      float64\n",
      " 7   Subtitle           0 non-null      float64\n",
      " 8   Lon                1059 non-null   float64\n",
      " 9   Lat                1059 non-null   float64\n",
      " 10  Accuracy           1059 non-null   int64  \n",
      " 11  Date               1059 non-null   object \n",
      " 12  Plot number        1054 non-null   float64\n",
      " 13  Status.1           1056 non-null   object \n",
      " 14  Declared area      1059 non-null   float64\n",
      " 15  Farm gate picture  1059 non-null   object \n",
      " 16  Plot delimitation  1059 non-null   float64\n",
      " 17  Plot centroid      1059 non-null   object \n",
      " 18  Soil type          1042 non-null   object \n",
      " 19  Soil color         1034 non-null   object \n",
      " 20  Soil picture       1059 non-null   object \n",
      " 21  Soil quality       1035 non-null   object \n",
      " 22  Topography         1039 non-null   object \n",
      "dtypes: float64(8), int64(2), object(13)\n",
      "memory usage: 190.4+ KB\n"
     ]
    }
   ],
   "source": [
    "datacopy.info()"
   ]
  },
  {
   "cell_type": "code",
   "execution_count": 7,
   "id": "f94fc157-1533-45a5-b169-1aedb899cf1c",
   "metadata": {},
   "outputs": [
    {
     "data": {
      "text/plain": [
       "Index([' ID', 'Parent ID', 'Object state', 'Status', 'Agent name',\n",
       "       'Agent first name', 'Title', 'Subtitle', 'Lon', 'Lat', 'Accuracy',\n",
       "       'Date', 'Plot number', 'Status.1', 'Declared area', 'Farm gate picture',\n",
       "       'Plot delimitation', 'Plot centroid', 'Soil type', 'Soil color',\n",
       "       'Soil picture', 'Soil quality', 'Topography'],\n",
       "      dtype='object')"
      ]
     },
     "execution_count": 7,
     "metadata": {},
     "output_type": "execute_result"
    }
   ],
   "source": [
    "datacopy.columns"
   ]
  },
  {
   "cell_type": "markdown",
   "id": "16f75d55-831b-4c17-84d3-cd9e72a2d60a",
   "metadata": {},
   "source": [
    "## Supprimer les vides"
   ]
  },
  {
   "cell_type": "code",
   "execution_count": 8,
   "id": "c1180824-87b9-404f-8d88-686d7d8b9e7b",
   "metadata": {},
   "outputs": [],
   "source": [
    "liste_a_fouter = [\"Title\",\"Subtitle\"]"
   ]
  },
  {
   "cell_type": "code",
   "execution_count": 9,
   "id": "95489357-9893-4d19-9118-9611a2bf7116",
   "metadata": {},
   "outputs": [],
   "source": [
    "datacopy.drop(liste_a_fouter, axis= 1,inplace = True)"
   ]
  },
  {
   "cell_type": "code",
   "execution_count": 10,
   "id": "dedd5fd2-54ec-4a2b-a7c5-b40ae6db948b",
   "metadata": {},
   "outputs": [
    {
     "data": {
      "text/plain": [
       "Index([' ID', 'Parent ID', 'Object state', 'Status', 'Agent name',\n",
       "       'Agent first name', 'Lon', 'Lat', 'Accuracy', 'Date', 'Plot number',\n",
       "       'Status.1', 'Declared area', 'Farm gate picture', 'Plot delimitation',\n",
       "       'Plot centroid', 'Soil type', 'Soil color', 'Soil picture',\n",
       "       'Soil quality', 'Topography'],\n",
       "      dtype='object')"
      ]
     },
     "execution_count": 10,
     "metadata": {},
     "output_type": "execute_result"
    }
   ],
   "source": [
    "datacopy.columns"
   ]
  },
  {
   "cell_type": "markdown",
   "id": "30ba5b7d-6aa6-4414-bb47-fbb22c11d08e",
   "metadata": {},
   "source": [
    "## Verification des doublons"
   ]
  },
  {
   "cell_type": "code",
   "execution_count": 11,
   "id": "6d8f7011-6d9b-4f36-a777-c052cb730ce2",
   "metadata": {},
   "outputs": [],
   "source": [
    "doublons_n = datacopy.duplicated().sum()"
   ]
  },
  {
   "cell_type": "code",
   "execution_count": 12,
   "id": "8a8d0ac0-c536-4471-9cae-a251dd061dc0",
   "metadata": {},
   "outputs": [
    {
     "data": {
      "text/plain": [
       "0"
      ]
     },
     "execution_count": 12,
     "metadata": {},
     "output_type": "execute_result"
    }
   ],
   "source": [
    "doublons_n"
   ]
  },
  {
   "cell_type": "markdown",
   "id": "ff15b169-bc6e-4555-8de7-d41d016f0595",
   "metadata": {},
   "source": [
    "## Les espaces"
   ]
  },
  {
   "cell_type": "code",
   "execution_count": 13,
   "id": "32f5e894-5fa4-487c-9729-e455c218a296",
   "metadata": {},
   "outputs": [],
   "source": [
    "datacopy.columns = datacopy.columns.str.replace(\" \",\"_\")"
   ]
  },
  {
   "cell_type": "code",
   "execution_count": 14,
   "id": "efe3c1e1-2d7f-4b64-a5d7-10ba02c33452",
   "metadata": {},
   "outputs": [
    {
     "data": {
      "text/plain": [
       "Index(['_ID', 'Parent_ID', 'Object_state', 'Status', 'Agent_name',\n",
       "       'Agent_first_name', 'Lon', 'Lat', 'Accuracy', 'Date', 'Plot_number',\n",
       "       'Status.1', 'Declared_area', 'Farm_gate_picture', 'Plot_delimitation',\n",
       "       'Plot_centroid', 'Soil_type', 'Soil_color', 'Soil_picture',\n",
       "       'Soil_quality', 'Topography'],\n",
       "      dtype='object')"
      ]
     },
     "execution_count": 14,
     "metadata": {},
     "output_type": "execute_result"
    }
   ],
   "source": [
    "datacopy.columns"
   ]
  },
  {
   "cell_type": "code",
   "execution_count": 15,
   "id": "95b4e7a6-65f0-4e08-a3bc-3ce3a85c8821",
   "metadata": {},
   "outputs": [],
   "source": [
    "datacopy.rename(columns = {'_ID':'ID'},inplace = True)"
   ]
  },
  {
   "cell_type": "markdown",
   "id": "0e67c90e-2c32-47c6-b771-323ba9de1921",
   "metadata": {},
   "source": [
    "## Les vides"
   ]
  },
  {
   "cell_type": "code",
   "execution_count": 16,
   "id": "6f9b569f-f0bf-4608-804e-486633e88103",
   "metadata": {},
   "outputs": [],
   "source": [
    "missing = datacopy.isnull().sum()"
   ]
  },
  {
   "cell_type": "code",
   "execution_count": 17,
   "id": "179b97b9-503c-49a0-8e2f-ec1e382b35f2",
   "metadata": {},
   "outputs": [
    {
     "name": "stdout",
     "output_type": "stream",
     "text": [
      "ID                    0\n",
      "Parent_ID            28\n",
      "Object_state          0\n",
      "Status                0\n",
      "Agent_name            0\n",
      "Agent_first_name      0\n",
      "Lon                   0\n",
      "Lat                   0\n",
      "Accuracy              0\n",
      "Date                  0\n",
      "Plot_number           5\n",
      "Status.1              3\n",
      "Declared_area         0\n",
      "Farm_gate_picture     0\n",
      "Plot_delimitation     0\n",
      "Plot_centroid         0\n",
      "Soil_type            17\n",
      "Soil_color           25\n",
      "Soil_picture          0\n",
      "Soil_quality         24\n",
      "Topography           20\n",
      "dtype: int64\n"
     ]
    }
   ],
   "source": [
    "print(missing)"
   ]
  },
  {
   "cell_type": "markdown",
   "id": "133772e1-e1bd-4aa0-90af-59581cf0564a",
   "metadata": {},
   "source": [
    "## Completer les Vides"
   ]
  },
  {
   "cell_type": "code",
   "execution_count": 18,
   "id": "7566bf40-12b7-40f3-961b-0bf7ca1862ae",
   "metadata": {},
   "outputs": [],
   "source": [
    "variables_categoriel = datacopy.select_dtypes(include = 'object').columns"
   ]
  },
  {
   "cell_type": "code",
   "execution_count": 19,
   "id": "abbbc0c9-bbb5-432b-9962-bcf5f22760b7",
   "metadata": {},
   "outputs": [
    {
     "name": "stderr",
     "output_type": "stream",
     "text": [
      "/tmp/ipykernel_33017/3007383732.py:4: FutureWarning: ChainedAssignmentError: behaviour will change in pandas 3.0!\n",
      "You are setting values through chained assignment. Currently this works in certain cases, but when using Copy-on-Write (which will become the default behaviour in pandas 3.0) this will never work to update the original DataFrame or Series, because the intermediate object on which we are setting values will behave as a copy.\n",
      "A typical example is when you are setting values in a column of a DataFrame, like:\n",
      "\n",
      "df[\"col\"][row_indexer] = value\n",
      "\n",
      "Use `df.loc[row_indexer, \"col\"] = values` instead, to perform the assignment in a single step and ensure this keeps updating the original `df`.\n",
      "\n",
      "See the caveats in the documentation: https://pandas.pydata.org/pandas-docs/stable/user_guide/indexing.html#returning-a-view-versus-a-copy\n",
      "\n",
      "  datacopy[i].iloc[missection] = datacopy[i].mode()[0]\n",
      "/tmp/ipykernel_33017/3007383732.py:4: SettingWithCopyWarning: \n",
      "A value is trying to be set on a copy of a slice from a DataFrame\n",
      "\n",
      "See the caveats in the documentation: https://pandas.pydata.org/pandas-docs/stable/user_guide/indexing.html#returning-a-view-versus-a-copy\n",
      "  datacopy[i].iloc[missection] = datacopy[i].mode()[0]\n",
      "/tmp/ipykernel_33017/3007383732.py:4: FutureWarning: ChainedAssignmentError: behaviour will change in pandas 3.0!\n",
      "You are setting values through chained assignment. Currently this works in certain cases, but when using Copy-on-Write (which will become the default behaviour in pandas 3.0) this will never work to update the original DataFrame or Series, because the intermediate object on which we are setting values will behave as a copy.\n",
      "A typical example is when you are setting values in a column of a DataFrame, like:\n",
      "\n",
      "df[\"col\"][row_indexer] = value\n",
      "\n",
      "Use `df.loc[row_indexer, \"col\"] = values` instead, to perform the assignment in a single step and ensure this keeps updating the original `df`.\n",
      "\n",
      "See the caveats in the documentation: https://pandas.pydata.org/pandas-docs/stable/user_guide/indexing.html#returning-a-view-versus-a-copy\n",
      "\n",
      "  datacopy[i].iloc[missection] = datacopy[i].mode()[0]\n",
      "/tmp/ipykernel_33017/3007383732.py:4: SettingWithCopyWarning: \n",
      "A value is trying to be set on a copy of a slice from a DataFrame\n",
      "\n",
      "See the caveats in the documentation: https://pandas.pydata.org/pandas-docs/stable/user_guide/indexing.html#returning-a-view-versus-a-copy\n",
      "  datacopy[i].iloc[missection] = datacopy[i].mode()[0]\n",
      "/tmp/ipykernel_33017/3007383732.py:4: FutureWarning: ChainedAssignmentError: behaviour will change in pandas 3.0!\n",
      "You are setting values through chained assignment. Currently this works in certain cases, but when using Copy-on-Write (which will become the default behaviour in pandas 3.0) this will never work to update the original DataFrame or Series, because the intermediate object on which we are setting values will behave as a copy.\n",
      "A typical example is when you are setting values in a column of a DataFrame, like:\n",
      "\n",
      "df[\"col\"][row_indexer] = value\n",
      "\n",
      "Use `df.loc[row_indexer, \"col\"] = values` instead, to perform the assignment in a single step and ensure this keeps updating the original `df`.\n",
      "\n",
      "See the caveats in the documentation: https://pandas.pydata.org/pandas-docs/stable/user_guide/indexing.html#returning-a-view-versus-a-copy\n",
      "\n",
      "  datacopy[i].iloc[missection] = datacopy[i].mode()[0]\n",
      "/tmp/ipykernel_33017/3007383732.py:4: SettingWithCopyWarning: \n",
      "A value is trying to be set on a copy of a slice from a DataFrame\n",
      "\n",
      "See the caveats in the documentation: https://pandas.pydata.org/pandas-docs/stable/user_guide/indexing.html#returning-a-view-versus-a-copy\n",
      "  datacopy[i].iloc[missection] = datacopy[i].mode()[0]\n",
      "/tmp/ipykernel_33017/3007383732.py:4: FutureWarning: ChainedAssignmentError: behaviour will change in pandas 3.0!\n",
      "You are setting values through chained assignment. Currently this works in certain cases, but when using Copy-on-Write (which will become the default behaviour in pandas 3.0) this will never work to update the original DataFrame or Series, because the intermediate object on which we are setting values will behave as a copy.\n",
      "A typical example is when you are setting values in a column of a DataFrame, like:\n",
      "\n",
      "df[\"col\"][row_indexer] = value\n",
      "\n",
      "Use `df.loc[row_indexer, \"col\"] = values` instead, to perform the assignment in a single step and ensure this keeps updating the original `df`.\n",
      "\n",
      "See the caveats in the documentation: https://pandas.pydata.org/pandas-docs/stable/user_guide/indexing.html#returning-a-view-versus-a-copy\n",
      "\n",
      "  datacopy[i].iloc[missection] = datacopy[i].mode()[0]\n",
      "/tmp/ipykernel_33017/3007383732.py:4: SettingWithCopyWarning: \n",
      "A value is trying to be set on a copy of a slice from a DataFrame\n",
      "\n",
      "See the caveats in the documentation: https://pandas.pydata.org/pandas-docs/stable/user_guide/indexing.html#returning-a-view-versus-a-copy\n",
      "  datacopy[i].iloc[missection] = datacopy[i].mode()[0]\n",
      "/tmp/ipykernel_33017/3007383732.py:4: FutureWarning: ChainedAssignmentError: behaviour will change in pandas 3.0!\n",
      "You are setting values through chained assignment. Currently this works in certain cases, but when using Copy-on-Write (which will become the default behaviour in pandas 3.0) this will never work to update the original DataFrame or Series, because the intermediate object on which we are setting values will behave as a copy.\n",
      "A typical example is when you are setting values in a column of a DataFrame, like:\n",
      "\n",
      "df[\"col\"][row_indexer] = value\n",
      "\n",
      "Use `df.loc[row_indexer, \"col\"] = values` instead, to perform the assignment in a single step and ensure this keeps updating the original `df`.\n",
      "\n",
      "See the caveats in the documentation: https://pandas.pydata.org/pandas-docs/stable/user_guide/indexing.html#returning-a-view-versus-a-copy\n",
      "\n",
      "  datacopy[i].iloc[missection] = datacopy[i].mode()[0]\n",
      "/tmp/ipykernel_33017/3007383732.py:4: SettingWithCopyWarning: \n",
      "A value is trying to be set on a copy of a slice from a DataFrame\n",
      "\n",
      "See the caveats in the documentation: https://pandas.pydata.org/pandas-docs/stable/user_guide/indexing.html#returning-a-view-versus-a-copy\n",
      "  datacopy[i].iloc[missection] = datacopy[i].mode()[0]\n"
     ]
    }
   ],
   "source": [
    "for i in variables_categoriel:\n",
    "    if datacopy[i].isnull().any():\n",
    "        missection = datacopy[datacopy[i].isnull()].index.tolist()\n",
    "        datacopy[i].iloc[missection] = datacopy[i].mode()[0]"
   ]
  },
  {
   "cell_type": "code",
   "execution_count": 20,
   "id": "86533082-758d-4e89-a3a8-3156dffc6568",
   "metadata": {},
   "outputs": [],
   "source": [
    "missing = datacopy.isnull().sum()"
   ]
  },
  {
   "cell_type": "code",
   "execution_count": 21,
   "id": "71b48fa3",
   "metadata": {},
   "outputs": [
    {
     "data": {
      "text/plain": [
       "ID                    0\n",
       "Parent_ID            28\n",
       "Object_state          0\n",
       "Status                0\n",
       "Agent_name            0\n",
       "Agent_first_name      0\n",
       "Lon                   0\n",
       "Lat                   0\n",
       "Accuracy              0\n",
       "Date                  0\n",
       "Plot_number           5\n",
       "Status.1              0\n",
       "Declared_area         0\n",
       "Farm_gate_picture     0\n",
       "Plot_delimitation     0\n",
       "Plot_centroid         0\n",
       "Soil_type             0\n",
       "Soil_color            0\n",
       "Soil_picture          0\n",
       "Soil_quality          0\n",
       "Topography            0\n",
       "dtype: int64"
      ]
     },
     "execution_count": 21,
     "metadata": {},
     "output_type": "execute_result"
    }
   ],
   "source": [
    "missing"
   ]
  },
  {
   "cell_type": "markdown",
   "id": "810b6066",
   "metadata": {},
   "source": [
    "## Supprimer les lignes vides dans Parent_ID et Plot_number"
   ]
  },
  {
   "cell_type": "code",
   "execution_count": 22,
   "id": "ec4ee9f6",
   "metadata": {},
   "outputs": [
    {
     "data": {
      "text/plain": [
       "['Parent_ID', 'Plot_number']"
      ]
     },
     "execution_count": 22,
     "metadata": {},
     "output_type": "execute_result"
    }
   ],
   "source": [
    "col_mis_value = []\n",
    "for i in datacopy.columns:\n",
    "    if any(datacopy[i].isnull()) == True:\n",
    "        col_mis_value.append(i)\n",
    "col_mis_value"
   ]
  },
  {
   "cell_type": "code",
   "execution_count": 23,
   "id": "d2a92831",
   "metadata": {},
   "outputs": [],
   "source": [
    "datacopy_clean = datacopy.dropna(subset=['Parent_ID', 'Plot_number'])"
   ]
  },
  {
   "cell_type": "code",
   "execution_count": 24,
   "id": "5ca3baa9",
   "metadata": {},
   "outputs": [
    {
     "name": "stdout",
     "output_type": "stream",
     "text": [
      "ID                   0\n",
      "Parent_ID            0\n",
      "Object_state         0\n",
      "Status               0\n",
      "Agent_name           0\n",
      "Agent_first_name     0\n",
      "Lon                  0\n",
      "Lat                  0\n",
      "Accuracy             0\n",
      "Date                 0\n",
      "Plot_number          0\n",
      "Status.1             0\n",
      "Declared_area        0\n",
      "Farm_gate_picture    0\n",
      "Plot_delimitation    0\n",
      "Plot_centroid        0\n",
      "Soil_type            0\n",
      "Soil_color           0\n",
      "Soil_picture         0\n",
      "Soil_quality         0\n",
      "Topography           0\n",
      "dtype: int64\n"
     ]
    }
   ],
   "source": [
    "print(datacopy_clean.isnull().sum())"
   ]
  },
  {
   "cell_type": "code",
   "execution_count": 25,
   "id": "b4f39d7c",
   "metadata": {},
   "outputs": [
    {
     "name": "stdout",
     "output_type": "stream",
     "text": [
      "<class 'pandas.core.frame.DataFrame'>\n",
      "Index: 1026 entries, 0 to 1058\n",
      "Data columns (total 21 columns):\n",
      " #   Column             Non-Null Count  Dtype  \n",
      "---  ------             --------------  -----  \n",
      " 0   ID                 1026 non-null   int64  \n",
      " 1   Parent_ID          1026 non-null   float64\n",
      " 2   Object_state       1026 non-null   object \n",
      " 3   Status             1026 non-null   object \n",
      " 4   Agent_name         1026 non-null   object \n",
      " 5   Agent_first_name   1026 non-null   object \n",
      " 6   Lon                1026 non-null   float64\n",
      " 7   Lat                1026 non-null   float64\n",
      " 8   Accuracy           1026 non-null   int64  \n",
      " 9   Date               1026 non-null   object \n",
      " 10  Plot_number        1026 non-null   float64\n",
      " 11  Status.1           1026 non-null   object \n",
      " 12  Declared_area      1026 non-null   float64\n",
      " 13  Farm_gate_picture  1026 non-null   object \n",
      " 14  Plot_delimitation  1026 non-null   float64\n",
      " 15  Plot_centroid      1026 non-null   object \n",
      " 16  Soil_type          1026 non-null   object \n",
      " 17  Soil_color         1026 non-null   object \n",
      " 18  Soil_picture       1026 non-null   object \n",
      " 19  Soil_quality       1026 non-null   object \n",
      " 20  Topography         1026 non-null   object \n",
      "dtypes: float64(6), int64(2), object(13)\n",
      "memory usage: 176.3+ KB\n"
     ]
    }
   ],
   "source": [
    "datacopy_clean.info()"
   ]
  },
  {
   "cell_type": "markdown",
   "id": "963d80fd",
   "metadata": {},
   "source": [
    "# Separation des Variables Quantitative des Variables Quantitative"
   ]
  },
  {
   "cell_type": "code",
   "execution_count": 26,
   "id": "35dff77d",
   "metadata": {},
   "outputs": [
    {
     "name": "stdout",
     "output_type": "stream",
     "text": [
      "Variables Quantitatives : Index(['ID', 'Parent_ID', 'Lon', 'Lat', 'Accuracy', 'Plot_number',\n",
      "       'Declared_area', 'Plot_delimitation'],\n",
      "      dtype='object')\n",
      "Variables Qualitatives : Index(['Object_state', 'Status', 'Agent_name', 'Agent_first_name', 'Date',\n",
      "       'Status.1', 'Farm_gate_picture', 'Plot_centroid', 'Soil_type',\n",
      "       'Soil_color', 'Soil_picture', 'Soil_quality', 'Topography'],\n",
      "      dtype='object')\n"
     ]
    }
   ],
   "source": [
    "quantitative_vars = datacopy_clean.select_dtypes(include=['int64', 'float64']).columns\n",
    "qualitative_vars = datacopy_clean.select_dtypes(include=['object']).columns\n",
    "\n",
    "print(\"Variables Quantitatives :\", quantitative_vars)\n",
    "print(\"Variables Qualitatives :\", qualitative_vars)"
   ]
  },
  {
   "cell_type": "markdown",
   "id": "e4447438",
   "metadata": {},
   "source": [
    "# Résumé statistique des variables quantitatives# Résumé statistique des variables quantitatives"
   ]
  },
  {
   "cell_type": "code",
   "execution_count": 27,
   "id": "9aaaffa8",
   "metadata": {},
   "outputs": [],
   "source": [
    "quantitative_summary = datacopy_clean[quantitative_vars].describe()\n"
   ]
  },
  {
   "cell_type": "code",
   "execution_count": 28,
   "id": "d9223e79",
   "metadata": {},
   "outputs": [
    {
     "name": "stdout",
     "output_type": "stream",
     "text": [
      "Résumé Statistique des Variables Quantitatives :\n",
      "                ID    Parent_ID          Lon          Lat     Accuracy  \\\n",
      "count  1026.000000  1026.000000  1026.000000  1026.000000  1026.000000   \n",
      "mean    634.971735   612.369396    -0.499834    10.111402     2.481481   \n",
      "std     321.452263   309.712211     0.338540     0.643317     1.962116   \n",
      "min      76.000000    73.000000    -1.104845     9.288223     1.000000   \n",
      "25%     358.250000   345.250000    -0.782563     9.419173     2.000000   \n",
      "50%     632.500000   611.500000    -0.436549     9.697351     2.000000   \n",
      "75%     912.750000   879.750000    -0.220594    10.756923     2.000000   \n",
      "max    1194.000000  1155.000000    -0.102543    10.875983    11.000000   \n",
      "\n",
      "       Plot_number  Declared_area  Plot_delimitation  \n",
      "count  1026.000000    1026.000000        1026.000000  \n",
      "mean      1.150097       1.415595        5490.574302  \n",
      "std       0.440493       0.891138        4158.275304  \n",
      "min       1.000000       0.000000         152.000000  \n",
      "25%       1.000000       1.000000        2658.140000  \n",
      "50%       1.000000       1.000000        4588.500000  \n",
      "75%       1.000000       2.000000        6867.112500  \n",
      "max       4.000000      11.000000       37497.000000  \n"
     ]
    }
   ],
   "source": [
    "print(\"Résumé Statistique des Variables Quantitatives :\")\n",
    "print(quantitative_summary)"
   ]
  },
  {
   "cell_type": "markdown",
   "id": "088de6c4",
   "metadata": {},
   "source": [
    "# Résumé statistique des effectifs et des proportions pour les variables qualitatives"
   ]
  },
  {
   "cell_type": "code",
   "execution_count": 29,
   "id": "851255bb",
   "metadata": {},
   "outputs": [
    {
     "name": "stdout",
     "output_type": "stream",
     "text": [
      "\n",
      "--- Variable Qualitative : Object_state ---\n",
      "Effectifs :\n",
      "Object_state\n",
      "Validated    1026\n",
      "Name: count, dtype: int64\n",
      "\n",
      "Proportions (%) :\n",
      "Object_state\n",
      "Validated    100.0\n",
      "Name: proportion, dtype: float64\n",
      "\n",
      "--- Variable Qualitative : Status ---\n",
      "Effectifs :\n",
      "Status\n",
      "Enable    1026\n",
      "Name: count, dtype: int64\n",
      "\n",
      "Proportions (%) :\n",
      "Status\n",
      "Enable    100.0\n",
      "Name: proportion, dtype: float64\n",
      "\n",
      "--- Variable Qualitative : Agent_name ---\n",
      "Effectifs :\n",
      "Agent_name\n",
      "Abukari        157\n",
      "Ziblim         147\n",
      "Azure          135\n",
      "ATIBUGRI       115\n",
      "Hamza          105\n",
      "Abdul-Razak    100\n",
      "Yahaya          99\n",
      "Mohammed        96\n",
      "Braimah         72\n",
      "Name: count, dtype: int64\n",
      "\n",
      "Proportions (%) :\n",
      "Agent_name\n",
      "Abukari        15.302144\n",
      "Ziblim         14.327485\n",
      "Azure          13.157895\n",
      "ATIBUGRI       11.208577\n",
      "Hamza          10.233918\n",
      "Abdul-Razak     9.746589\n",
      "Yahaya          9.649123\n",
      "Mohammed        9.356725\n",
      "Braimah         7.017544\n",
      "Name: proportion, dtype: float64\n",
      "\n",
      "--- Variable Qualitative : Agent_first_name ---\n",
      "Effectifs :\n",
      "Agent_first_name\n",
      "Nuhu              147\n",
      "Frederick         135\n",
      "ABUGBIL GEORGE    115\n",
      "Paul Fuseini      105\n",
      "Amin              100\n",
      "Osumani            99\n",
      "Silas              97\n",
      "Wumbei             96\n",
      "Bushira            72\n",
      "Samson             60\n",
      "Name: count, dtype: int64\n",
      "\n",
      "Proportions (%) :\n",
      "Agent_first_name\n",
      "Nuhu              14.327485\n",
      "Frederick         13.157895\n",
      "ABUGBIL GEORGE    11.208577\n",
      "Paul Fuseini      10.233918\n",
      "Amin               9.746589\n",
      "Osumani            9.649123\n",
      "Silas              9.454191\n",
      "Wumbei             9.356725\n",
      "Bushira            7.017544\n",
      "Samson             5.847953\n",
      "Name: proportion, dtype: float64\n",
      "\n",
      "--- Variable Qualitative : Date ---\n",
      "Effectifs :\n",
      "Date\n",
      "2017-11-20 12:10:34    1\n",
      "2017-11-24 09:15:53    1\n",
      "2017-11-25 04:14:36    1\n",
      "2017-11-26 11:00:15    1\n",
      "2017-11-26 10:56:43    1\n",
      "                      ..\n",
      "2017-12-01 21:36:57    1\n",
      "2017-12-01 21:33:22    1\n",
      "2017-12-01 21:31:21    1\n",
      "2017-12-01 21:24:23    1\n",
      "2017-12-05 16:56:13    1\n",
      "Name: count, Length: 1026, dtype: int64\n",
      "\n",
      "Proportions (%) :\n",
      "Date\n",
      "2017-11-20 12:10:34    0.097466\n",
      "2017-11-24 09:15:53    0.097466\n",
      "2017-11-25 04:14:36    0.097466\n",
      "2017-11-26 11:00:15    0.097466\n",
      "2017-11-26 10:56:43    0.097466\n",
      "                         ...   \n",
      "2017-12-01 21:36:57    0.097466\n",
      "2017-12-01 21:33:22    0.097466\n",
      "2017-12-01 21:31:21    0.097466\n",
      "2017-12-01 21:24:23    0.097466\n",
      "2017-12-05 16:56:13    0.097466\n",
      "Name: proportion, Length: 1026, dtype: float64\n",
      "\n",
      "--- Variable Qualitative : Status.1 ---\n",
      "Effectifs :\n",
      "Status.1\n",
      "Owner         987\n",
      "Management     38\n",
      "Domestic        1\n",
      "Name: count, dtype: int64\n",
      "\n",
      "Proportions (%) :\n",
      "Status.1\n",
      "Owner         96.198830\n",
      "Management     3.703704\n",
      "Domestic       0.097466\n",
      "Name: proportion, dtype: float64\n",
      "\n",
      "--- Variable Qualitative : Farm_gate_picture ---\n",
      "Effectifs :\n",
      "Farm_gate_picture\n",
      "http://www.jotbi.com//document/photo/raw/3e48bc83-8866-48f5-8708-6b38970591a0.jpg    1\n",
      "http://www.jotbi.com//document/photo/raw/58870580-d1a4-4307-9e00-a50cc6c5c254.jpg    1\n",
      "http://www.jotbi.com//document/photo/raw/e4506a8a-aec0-4670-b65e-f9df7e87e729.jpg    1\n",
      "http://www.jotbi.com//document/photo/raw/f0785bb3-21fb-4415-89c4-4e98e408b5fa.jpg    1\n",
      "http://www.jotbi.com//document/photo/raw/9560346a-2cd1-437a-9922-893dcd3174f5.jpg    1\n",
      "                                                                                    ..\n",
      "http://www.jotbi.com//document/photo/raw/841905aa-7b16-46ff-83c6-15a453dbbfc6.jpg    1\n",
      "http://www.jotbi.com//document/photo/raw/bb116024-939a-4532-9de7-faa1e4537d28.jpg    1\n",
      "http://www.jotbi.com//document/photo/raw/636179f0-caaf-45f0-8aae-81b9aab325b6.jpg    1\n",
      "http://www.jotbi.com//document/photo/raw/1fb53fb7-3c70-49e9-bfbb-8a84424d8d15.jpg    1\n",
      "http://www.jotbi.com//document/photo/raw/6457e886-6041-44fd-ad39-58245058db43.jpg    1\n",
      "Name: count, Length: 1026, dtype: int64\n",
      "\n",
      "Proportions (%) :\n",
      "Farm_gate_picture\n",
      "http://www.jotbi.com//document/photo/raw/3e48bc83-8866-48f5-8708-6b38970591a0.jpg    0.097466\n",
      "http://www.jotbi.com//document/photo/raw/58870580-d1a4-4307-9e00-a50cc6c5c254.jpg    0.097466\n",
      "http://www.jotbi.com//document/photo/raw/e4506a8a-aec0-4670-b65e-f9df7e87e729.jpg    0.097466\n",
      "http://www.jotbi.com//document/photo/raw/f0785bb3-21fb-4415-89c4-4e98e408b5fa.jpg    0.097466\n",
      "http://www.jotbi.com//document/photo/raw/9560346a-2cd1-437a-9922-893dcd3174f5.jpg    0.097466\n",
      "                                                                                       ...   \n",
      "http://www.jotbi.com//document/photo/raw/841905aa-7b16-46ff-83c6-15a453dbbfc6.jpg    0.097466\n",
      "http://www.jotbi.com//document/photo/raw/bb116024-939a-4532-9de7-faa1e4537d28.jpg    0.097466\n",
      "http://www.jotbi.com//document/photo/raw/636179f0-caaf-45f0-8aae-81b9aab325b6.jpg    0.097466\n",
      "http://www.jotbi.com//document/photo/raw/1fb53fb7-3c70-49e9-bfbb-8a84424d8d15.jpg    0.097466\n",
      "http://www.jotbi.com//document/photo/raw/6457e886-6041-44fd-ad39-58245058db43.jpg    0.097466\n",
      "Name: proportion, Length: 1026, dtype: float64\n",
      "\n",
      "--- Variable Qualitative : Plot_centroid ---\n",
      "Effectifs :\n",
      "Plot_centroid\n",
      "-0.13340333333333 | 10.799921666667    1\n",
      "-0.13372166666667 | 10.75525           1\n",
      "-0.22267666666667 | 10.76431           1\n",
      "-0.25263592600822 | 10.746741706103    1\n",
      "-0.25250282138586 | 10.746862264913    1\n",
      "                                      ..\n",
      "-0.48350874334574 | 9.4102815646788    1\n",
      "-0.483715 | 9.4120766666667            1\n",
      "-0.48393666666667 | 9.4125183333333    1\n",
      "-0.48738166666667 | 9.4158383333333    1\n",
      "-0.85930164903402 | 9.6002857973273    1\n",
      "Name: count, Length: 1026, dtype: int64\n",
      "\n",
      "Proportions (%) :\n",
      "Plot_centroid\n",
      "-0.13340333333333 | 10.799921666667    0.097466\n",
      "-0.13372166666667 | 10.75525           0.097466\n",
      "-0.22267666666667 | 10.76431           0.097466\n",
      "-0.25263592600822 | 10.746741706103    0.097466\n",
      "-0.25250282138586 | 10.746862264913    0.097466\n",
      "                                         ...   \n",
      "-0.48350874334574 | 9.4102815646788    0.097466\n",
      "-0.483715 | 9.4120766666667            0.097466\n",
      "-0.48393666666667 | 9.4125183333333    0.097466\n",
      "-0.48738166666667 | 9.4158383333333    0.097466\n",
      "-0.85930164903402 | 9.6002857973273    0.097466\n",
      "Name: proportion, Length: 1026, dtype: float64\n",
      "\n",
      "--- Variable Qualitative : Soil_type ---\n",
      "Effectifs :\n",
      "Soil_type\n",
      "Loamy         503\n",
      "Sandy         256\n",
      "Sandy Loam    185\n",
      "Clay Loam      60\n",
      "Clay           22\n",
      "Name: count, dtype: int64\n",
      "\n",
      "Proportions (%) :\n",
      "Soil_type\n",
      "Loamy         49.025341\n",
      "Sandy         24.951267\n",
      "Sandy Loam    18.031189\n",
      "Clay Loam      5.847953\n",
      "Clay           2.144250\n",
      "Name: proportion, dtype: float64\n",
      "\n",
      "--- Variable Qualitative : Soil_color ---\n",
      "Effectifs :\n",
      "Soil_color\n",
      "Brown             625\n",
      "Black             151\n",
      "Dark               80\n",
      "Dark Brown         51\n",
      "Whitish            22\n",
      "White              15\n",
      "brown              12\n",
      "Dark brown         12\n",
      "Redish              7\n",
      "Ash                 5\n",
      "Light brown         4\n",
      "Milky               4\n",
      "Light black         3\n",
      "black               3\n",
      "Brounish            3\n",
      "Brow                2\n",
      "Light Brown         2\n",
      "white               2\n",
      "Pure brown          1\n",
      "DarkPl              1\n",
      "yellow              1\n",
      "Light dark          1\n",
      "Browm               1\n",
      "Btown               1\n",
      "Dark brow           1\n",
      "light dark          1\n",
      "red                 1\n",
      "light black         1\n",
      "Grey                1\n",
      "Not pure brown      1\n",
      "White - brown       1\n",
      "Blank               1\n",
      "Deep Brown          1\n",
      "Bown                1\n",
      "Blackish            1\n",
      "Red                 1\n",
      "Lack                1\n",
      "yellowish           1\n",
      "Light broun         1\n",
      "silver              1\n",
      "Dark  brown         1\n",
      "Name: count, dtype: int64\n",
      "\n",
      "Proportions (%) :\n",
      "Soil_color\n",
      "Brown             60.916179\n",
      "Black             14.717349\n",
      "Dark               7.797271\n",
      "Dark Brown         4.970760\n",
      "Whitish            2.144250\n",
      "White              1.461988\n",
      "brown              1.169591\n",
      "Dark brown         1.169591\n",
      "Redish             0.682261\n",
      "Ash                0.487329\n",
      "Light brown        0.389864\n",
      "Milky              0.389864\n",
      "Light black        0.292398\n",
      "black              0.292398\n",
      "Brounish           0.292398\n",
      "Brow               0.194932\n",
      "Light Brown        0.194932\n",
      "white              0.194932\n",
      "Pure brown         0.097466\n",
      "DarkPl             0.097466\n",
      "yellow             0.097466\n",
      "Light dark         0.097466\n",
      "Browm              0.097466\n",
      "Btown              0.097466\n",
      "Dark brow          0.097466\n",
      "light dark         0.097466\n",
      "red                0.097466\n",
      "light black        0.097466\n",
      "Grey               0.097466\n",
      "Not pure brown     0.097466\n",
      "White - brown      0.097466\n",
      "Blank              0.097466\n",
      "Deep Brown         0.097466\n",
      "Bown               0.097466\n",
      "Blackish           0.097466\n",
      "Red                0.097466\n",
      "Lack               0.097466\n",
      "yellowish          0.097466\n",
      "Light broun        0.097466\n",
      "silver             0.097466\n",
      "Dark  brown        0.097466\n",
      "Name: proportion, dtype: float64\n",
      "\n",
      "--- Variable Qualitative : Soil_picture ---\n",
      "Effectifs :\n",
      "Soil_picture\n",
      "http://www.jotbi.com//document/photo/raw/2a518937-7000-4851-827c-1c815f5c5fac.jpg    1\n",
      "http://www.jotbi.com//document/photo/raw/216501d7-f0f4-43fc-9c14-7ab8bf109999.jpg    1\n",
      "http://www.jotbi.com//document/photo/raw/cf0c8e10-baed-4a83-b917-0da39e7d5a12.jpg    1\n",
      "http://www.jotbi.com//document/photo/raw/0a8f1beb-380b-41c9-8091-5d2499c96540.jpg    1\n",
      "http://www.jotbi.com//document/photo/raw/99c342f5-b929-4c6f-8962-e56d836145a9.jpg    1\n",
      "                                                                                    ..\n",
      "http://www.jotbi.com//document/photo/raw/07802216-9f29-4ac1-8a97-07b8e4fadd26.jpg    1\n",
      "http://www.jotbi.com//document/photo/raw/71e50efd-ba26-4b0a-a9eb-0225939588c8.jpg    1\n",
      "http://www.jotbi.com//document/photo/raw/bbac1691-34d1-4dc8-ad3c-5042c22840b1.jpg    1\n",
      "http://www.jotbi.com//document/photo/raw/3b12ccc7-1858-4ffe-bb2a-09ce3a7fb2ea.jpg    1\n",
      "http://www.jotbi.com//document/photo/raw/c4196a30-9006-4a9b-896d-630424074478.jpg    1\n",
      "Name: count, Length: 1026, dtype: int64\n",
      "\n",
      "Proportions (%) :\n",
      "Soil_picture\n",
      "http://www.jotbi.com//document/photo/raw/2a518937-7000-4851-827c-1c815f5c5fac.jpg    0.097466\n",
      "http://www.jotbi.com//document/photo/raw/216501d7-f0f4-43fc-9c14-7ab8bf109999.jpg    0.097466\n",
      "http://www.jotbi.com//document/photo/raw/cf0c8e10-baed-4a83-b917-0da39e7d5a12.jpg    0.097466\n",
      "http://www.jotbi.com//document/photo/raw/0a8f1beb-380b-41c9-8091-5d2499c96540.jpg    0.097466\n",
      "http://www.jotbi.com//document/photo/raw/99c342f5-b929-4c6f-8962-e56d836145a9.jpg    0.097466\n",
      "                                                                                       ...   \n",
      "http://www.jotbi.com//document/photo/raw/07802216-9f29-4ac1-8a97-07b8e4fadd26.jpg    0.097466\n",
      "http://www.jotbi.com//document/photo/raw/71e50efd-ba26-4b0a-a9eb-0225939588c8.jpg    0.097466\n",
      "http://www.jotbi.com//document/photo/raw/bbac1691-34d1-4dc8-ad3c-5042c22840b1.jpg    0.097466\n",
      "http://www.jotbi.com//document/photo/raw/3b12ccc7-1858-4ffe-bb2a-09ce3a7fb2ea.jpg    0.097466\n",
      "http://www.jotbi.com//document/photo/raw/c4196a30-9006-4a9b-896d-630424074478.jpg    0.097466\n",
      "Name: proportion, Length: 1026, dtype: float64\n",
      "\n",
      "--- Variable Qualitative : Soil_quality ---\n",
      "Effectifs :\n",
      "Soil_quality\n",
      "Good       622\n",
      "Average    398\n",
      "Bad          6\n",
      "Name: count, dtype: int64\n",
      "\n",
      "Proportions (%) :\n",
      "Soil_quality\n",
      "Good       60.623782\n",
      "Average    38.791423\n",
      "Bad         0.584795\n",
      "Name: proportion, dtype: float64\n",
      "\n",
      "--- Variable Qualitative : Topography ---\n",
      "Effectifs :\n",
      "Topography\n",
      "Dish     734\n",
      "Slope    292\n",
      "Name: count, dtype: int64\n",
      "\n",
      "Proportions (%) :\n",
      "Topography\n",
      "Dish     71.539961\n",
      "Slope    28.460039\n",
      "Name: proportion, dtype: float64\n"
     ]
    }
   ],
   "source": [
    "for col in qualitative_vars:\n",
    "    print(f\"\\n--- Variable Qualitative : {col} ---\")\n",
    "    \n",
    "    effectifs = datacopy_clean[col].value_counts()\n",
    "    print(\"Effectifs :\")\n",
    "    print(effectifs)\n",
    "    \n",
    "    proportions = datacopy_clean[col].value_counts(normalize=True) * 100\n",
    "    print(\"\\nProportions (%) :\")\n",
    "    print(proportions)"
   ]
  },
  {
   "cell_type": "markdown",
   "id": "6559cbfb",
   "metadata": {},
   "source": [
    "# Verification des valeurs abberantes"
   ]
  },
  {
   "cell_type": "code",
   "execution_count": 30,
   "id": "6edc1cfe",
   "metadata": {},
   "outputs": [],
   "source": [
    "import matplotlib.pyplot as plt\n",
    "import seaborn as sns"
   ]
  },
  {
   "cell_type": "code",
   "execution_count": 31,
   "id": "c81d18f2",
   "metadata": {},
   "outputs": [],
   "source": [
    "quantitative_vars = ['ID', 'Parent_ID', 'Lon', 'Lat', 'Accuracy', 'Plot_number', 'Declared_area', 'Plot_delimitation']"
   ]
  },
  {
   "cell_type": "code",
   "execution_count": 32,
   "id": "bb7763ad",
   "metadata": {},
   "outputs": [
    {
     "data": {
      "text/plain": [
       "<Figure size 1500x1000 with 0 Axes>"
      ]
     },
     "execution_count": 32,
     "metadata": {},
     "output_type": "execute_result"
    },
    {
     "data": {
      "text/plain": [
       "<Figure size 1500x1000 with 0 Axes>"
      ]
     },
     "metadata": {},
     "output_type": "display_data"
    }
   ],
   "source": [
    "plt.figure(figsize=(15, 10))"
   ]
  },
  {
   "cell_type": "code",
   "execution_count": 33,
   "id": "55b90e20",
   "metadata": {},
   "outputs": [
    {
     "data": {
      "image/png": "[encoded data removed]",
      "text/plain": [
       "<Figure size 640x480 with 8 Axes>"
      ]
     },
     "metadata": {},
     "output_type": "display_data"
    }
   ],
   "source": []
  },
  {
   "cell_type": "code",
   "execution_count": 36,
   "id": "7bd6f80a",
   "metadata": {},
   "outputs": [],
   "source": [
    "def check_outliers(df):\n",
    "    return df.boxplot(figsize=(15,5))"
   ]
  },
  {
   "cell_type": "code",
   "execution_count": 37,
   "id": "592b275d",
   "metadata": {},
   "outputs": [
    {
     "data": {
      "text/plain": [
       "<Axes: >"
      ]
     },
     "execution_count": 37,
     "metadata": {},
     "output_type": "execute_result"
    },
    {
     "data": {
      "image/png": "[encoded data removed]",
      "text/plain": [
       "<Figure size 1500x500 with 1 Axes>"
      ]
     },
     "metadata": {},
     "output_type": "display_data"
    }
   ],
   "source": [
    "check_outliers(datacopy_clean)"
   ]
  },
  {
   "cell_type": "code",
   "execution_count": null,
   "id": "316824d2",
   "metadata": {},
   "outputs": [],
   "source": []
  }
 ],
 "metadata": {
  "kernelspec": {
   "display_name": "Python 3",
   "language": "python",
   "name": "python3"
  },
  "language_info": {
   "codemirror_mode": {
    "name": "ipython",
    "version": 3
   },
   "file_extension": ".py",
   "mimetype": "text/x-python",
   "name": "python",
   "nbconvert_exporter": "python",
   "pygments_lexer": "ipython3",
   "version": "3.13.3"
  }
 },
 "nbformat": 4,
 "nbformat_minor": 5
}
